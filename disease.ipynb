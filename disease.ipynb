{
 "cells": [
  {
   "cell_type": "code",
   "execution_count": 283,
   "metadata": {},
   "outputs": [],
   "source": [
    "import numpy as np\n",
    "import pandas as pd\n",
    "from typing import Dict, Set, List\n",
    "import copy"
   ]
  },
  {
   "cell_type": "code",
   "execution_count": 284,
   "metadata": {},
   "outputs": [],
   "source": [
    "def populate_dictionaries_with_dataframe(\n",
    "    df: pd.DataFrame,\n",
    "    diseases_dict: Dict[str, Set[str]],\n",
    "    symptoms_dict: Dict[str, Set[str]],\n",
    "):\n",
    "    lenght = len(df)\n",
    "    attr_len = len(df.columns)\n",
    "\n",
    "    for i in range(lenght):\n",
    "        disease = (str)(df.iloc[i, 0])\n",
    "        if disease in [\n",
    "            \"Allergy\",\n",
    "            \"Varicose veins\",\n",
    "            \"Paralysis (brain hemorrhage)\",\n",
    "            \"Acne\",\n",
    "            \"Heart attack\",\n",
    "            \"Peptic ulcer diseae\",\n",
    "            \"Drug Reaction\",\n",
    "            \"Cervical spondylosis\",\n",
    "            \"Hepatitis E\",\n",
    "            \"hepatitis A\",\n",
    "            \"Hepatitis B\",\n",
    "            \"Hepatitis C\",\n",
    "            \"Hepatitis D\",\n",
    "            \"Fungal infection\",\n",
    "            \"Hyperthyroidism\",\n",
    "            \"Hypothyroidism\",\n",
    "            \"Hypertension\",\n",
    "            \"Hypoglycemia\",\n",
    "            \"Alcoholic hepatitis\",\n",
    "            \"Urinary tract infection\",  # special case, this has 4 symptoms but each symptom only has this, hence when we are discarding symptoms with one disease, effectively no symptom is left for urinary track infection\n",
    "        ]:\n",
    "            continue\n",
    "        if disease not in diseases_dict:\n",
    "            diseases_dict.update({disease: set()})\n",
    "        for j in range(1, attr_len):\n",
    "            if not pd.isna(df.iloc[i, j]):\n",
    "                symptom = (str)(df.iloc[i, j])\n",
    "                if symptom in [\n",
    "                    \"mild_fever\",\n",
    "                    \"family_history\",\n",
    "                    \"irregular_sugar_level\",\n",
    "                    \"watering_from_eyes\",\n",
    "                    \"mood_swings\",\n",
    "                    \"swelled_lymph_nodes\",\n",
    "                ]:\n",
    "                    continue\n",
    "\n",
    "                if symptom not in symptoms_dict:\n",
    "                    symptoms_dict.update({symptom: set()})\n",
    "\n",
    "                disease_symptoms_set = diseases_dict.get(disease)\n",
    "                if disease_symptoms_set is not None:\n",
    "                    disease_symptoms_set.add(symptom)\n",
    "\n",
    "                symptom_diseases_set = symptoms_dict.get(symptom)\n",
    "                if symptom_diseases_set is not None:\n",
    "                    symptom_diseases_set.add(disease)\n",
    "\n",
    "            else:\n",
    "                break"
   ]
  },
  {
   "cell_type": "code",
   "execution_count": 285,
   "metadata": {},
   "outputs": [],
   "source": [
    "def remove_single_disease_symptoms(\n",
    "    disease_dict: Dict[str, Set[str]], symptoms_dict: Dict[str, Set[str]]\n",
    "):\n",
    "    ## removed symptoms list\n",
    "    removed_symptoms: List[str] = []\n",
    "\n",
    "    ## removing all symptoms which corresponds to only one disease\n",
    "    for symptom in list(symptoms_dict):\n",
    "        if len(symptoms_dict[symptom]) == 1:\n",
    "            symptoms_dict.pop(symptom)\n",
    "            removed_symptoms.append(symptom)\n",
    "\n",
    "    for disease in list(disease_dict.keys()):\n",
    "        for removed_symptom in removed_symptoms:\n",
    "            if removed_symptom in disease_dict[disease]:\n",
    "                disease_dict[disease].remove(removed_symptom)\n",
    "\n",
    "        if len(disease_dict[disease]) == 0:\n",
    "            disease_dict.pop(disease)\n",
    "\n",
    "    return removed_symptoms"
   ]
  },
  {
   "cell_type": "code",
   "execution_count": 286,
   "metadata": {},
   "outputs": [],
   "source": [
    "def generate_initial_questions(\n",
    "    adj: List[List[str]],\n",
    "    diseases: Set[str],\n",
    "    ordered_symptoms: List[str],\n",
    "):\n",
    "    max_questions: int = 10\n",
    "    max_diseases: int = 0\n",
    "    # questions: List[str] = [\"\"] * max_questions\n",
    "    questions = [\n",
    "        \"high_fever\",\n",
    "        \"vomiting\",\n",
    "        \"fatigue\",\n",
    "        \"headache\",\n",
    "        \"chills\",\n",
    "        \"cough\",\n",
    "        \"skin_rash\",\n",
    "        \"constipation\",\n",
    "        \"swelling_joints\",\n",
    "    ]\n",
    "\n",
    "    def dfs(\n",
    "        adj: List[List[str]],\n",
    "        idx: int,\n",
    "        num_questions: int,\n",
    "        curr_diseases: Set[str],\n",
    "        symptoms: List[str],\n",
    "        diseases: Set[str],\n",
    "        ordered_symptoms: List[str],\n",
    "    ):\n",
    "        nonlocal max_questions, max_diseases, questions\n",
    "\n",
    "        if curr_diseases == diseases:\n",
    "            # shows how many diseases are covered\n",
    "            max_diseases = max(max_diseases, len(curr_diseases))\n",
    "            if max_questions > len(symptoms):\n",
    "                print(\n",
    "                    f\"base case reached, updating question with number of questions {len(symptoms)}\"\n",
    "                )\n",
    "                questions = copy.deepcopy(symptoms)\n",
    "                max_questions = len(symptoms)\n",
    "                return True\n",
    "            # we can store the path and return if required the questions\n",
    "            return False\n",
    "\n",
    "        if num_questions >= max_questions:\n",
    "            # if len(questions) > len(symptoms) and len(curr_diseases) > max_diseases:\n",
    "            #     print(\n",
    "            #         f\"length of curr_diseases is {len(curr_diseases)} with depth {depth} and max_depth {max_depth}\"\n",
    "            #     )\n",
    "            max_diseases = max(max_diseases, len(curr_diseases))\n",
    "            #     questions = symptoms.copy()\n",
    "            return False\n",
    "\n",
    "        if idx >= len(adj):\n",
    "            return False\n",
    "\n",
    "        vis: list[bool] = [False] * len(adj[idx])\n",
    "        for i, symptom in enumerate(adj[idx]):\n",
    "            if symptom not in curr_diseases:\n",
    "                vis[i] = True\n",
    "            curr_diseases.add(symptom)\n",
    "\n",
    "        # call once with taking that symptom\n",
    "        symptoms.append(ordered_symptoms[idx])\n",
    "\n",
    "        answer_found = dfs(\n",
    "            adj,\n",
    "            idx + 1,\n",
    "            num_questions + 1,\n",
    "            curr_diseases,\n",
    "            symptoms,\n",
    "            diseases,\n",
    "            ordered_symptoms,\n",
    "        )\n",
    "\n",
    "        symptoms.remove(ordered_symptoms[idx])\n",
    "\n",
    "        for i, symptom in enumerate(iterable=adj[idx]):\n",
    "            if vis[i]:\n",
    "                curr_diseases.remove(symptom)\n",
    "\n",
    "        if answer_found:\n",
    "            return True\n",
    "\n",
    "        # call once without taking that symptom\n",
    "        # now the tree is actually deeper than maximum number of questions already found\n",
    "        # because this call where we do not select a question, this can do as deep as all the questions\n",
    "        answer_found = dfs(\n",
    "            adj,\n",
    "            idx + 1,\n",
    "            num_questions,\n",
    "            curr_diseases,\n",
    "            symptoms,\n",
    "            diseases,\n",
    "            ordered_symptoms,\n",
    "        )\n",
    "\n",
    "        if answer_found:\n",
    "            return True\n",
    "        else:\n",
    "            return False\n",
    "\n",
    "    # we have ran dfs once and hardcoded the questions for saving time\n",
    "    # in case of change in diseases or symptoms, please run once agains\n",
    "    # dfs(adj, 0, 0, set(), list(), diseases, ordered_symptoms)\n",
    "\n",
    "    # print(f\"Questions are :: {questions}\")\n",
    "    # print(f\"Number of diseases covered by this questions are :: {max_diseases}\")\n",
    "    # print(f\"Number of questions are :: {len(questions)}\")\n",
    "    return questions"
   ]
  },
  {
   "cell_type": "code",
   "execution_count": 287,
   "metadata": {},
   "outputs": [],
   "source": [
    "def create_mapping(\n",
    "    disease: str,  # the name of the disease in string format\n",
    "    symptoms_mapping: Dict[str, int],\n",
    "    disease_dict: Dict[str, Set[str]],\n",
    "):\n",
    "    \"\"\"\n",
    "    Given the name of the disease, this function will return the integer value i.e. bit mask\n",
    "    corresponding to that disease based on the symptoms listen in disease dict corresponding to that disease.\n",
    "    \"\"\"\n",
    "    mapping: int = 0\n",
    "    disease_symptoms = disease_dict[disease]\n",
    "    for symptom in disease_symptoms:\n",
    "        mapping = mapping | (1 << symptoms_mapping[symptom])\n",
    "    return mapping"
   ]
  },
  {
   "cell_type": "code",
   "execution_count": 288,
   "metadata": {},
   "outputs": [],
   "source": [
    "def generate_diseases_map_from_list(\n",
    "    diseases: List[str], diseases_mapping: Dict[str, int]\n",
    "):\n",
    "    combined_mask = 0\n",
    "    for disease in diseases:\n",
    "        combined_mask |= diseases_mapping[disease]\n",
    "    return combined_mask"
   ]
  },
  {
   "cell_type": "code",
   "execution_count": 289,
   "metadata": {},
   "outputs": [],
   "source": [
    "def generate_symptoms_map_from_list(\n",
    "    symptoms: List[str], symptoms_mapping: Dict[str, int]\n",
    "):\n",
    "    combined_mask = 0\n",
    "    for symptom in symptoms:\n",
    "        combined_mask |= 1 << symptoms_mapping[symptom]\n",
    "    return combined_mask"
   ]
  },
  {
   "cell_type": "code",
   "execution_count": 290,
   "metadata": {},
   "outputs": [],
   "source": [
    "def generate_matching_diseases_from_symptoms_list(\n",
    "    symptoms_list: List[str],\n",
    "    symptoms_mapping: Dict[str, int],\n",
    "    diseases_mapping: Dict[str, int],\n",
    "):\n",
    "    symptoms_mask = generate_symptoms_map_from_list(symptoms_list, symptoms_mapping)\n",
    "\n",
    "    matching_diseases = [\n",
    "        disease\n",
    "        for disease in diseases_mapping\n",
    "        if (diseases_mapping[disease] & symptoms_mask) == symptoms_mask\n",
    "    ]\n",
    "\n",
    "    return (symptoms_mask, matching_diseases)"
   ]
  },
  {
   "cell_type": "code",
   "execution_count": 291,
   "metadata": {},
   "outputs": [],
   "source": [
    "def generate_matching_diseases_from_symptoms_mask(\n",
    "    symptoms_mask: int,\n",
    "    diseases_mapping: Dict[str, int],\n",
    "):\n",
    "    matching_diseases = [\n",
    "        disease\n",
    "        for disease in diseases_mapping\n",
    "        if (diseases_mapping[disease] & symptoms_mask) == symptoms_mask\n",
    "    ]\n",
    "\n",
    "    return matching_diseases"
   ]
  },
  {
   "cell_type": "code",
   "execution_count": 292,
   "metadata": {},
   "outputs": [],
   "source": [
    "def generate_next_set_questions(\n",
    "    selected_symptoms: List[str],\n",
    "    already_asked_mask: int,\n",
    "    symptoms_mapping: Dict[str, int],\n",
    "    diseases_mapping: Dict[str, int],\n",
    "):\n",
    "    _, matching_diseases = generate_matching_diseases_from_symptoms_list(\n",
    "        selected_symptoms, symptoms_mapping, diseases_mapping\n",
    "    )\n",
    "\n",
    "    next_set_mask = (\n",
    "        generate_diseases_map_from_list(matching_diseases, diseases_mapping)\n",
    "        & ~already_asked_mask\n",
    "    )\n",
    "\n",
    "    next_set_questions: List[str] = []\n",
    "\n",
    "    for symptom in symptoms_mapping:\n",
    "        if 1 << symptoms_mapping[symptom] & next_set_mask != 0:\n",
    "            next_set_questions.append(symptom)\n",
    "\n",
    "    return (next_set_mask, next_set_questions)"
   ]
  },
  {
   "cell_type": "code",
   "execution_count": 293,
   "metadata": {},
   "outputs": [],
   "source": [
    "df = pd.read_csv(filepath_or_buffer=\"./archive/dataset.csv\", skipinitialspace=True)"
   ]
  },
  {
   "cell_type": "code",
   "execution_count": 294,
   "metadata": {},
   "outputs": [],
   "source": [
    "\"\"\" stores the diseaseas key and a set containing symptoms for that disease as the value \"\"\"\n",
    "disease_dict: Dict[str, Set[str]] = {}\n",
    "symptoms_dict: Dict[str, Set[str]] = {}\n",
    "\n",
    "populate_dictionaries_with_dataframe(df, disease_dict, symptoms_dict)\n",
    "remove_single_disease_symptoms(disease_dict, symptoms_dict)\n",
    "diseases: Set[str] = set(disease_dict.keys())  # contains all the diseasein a set format"
   ]
  },
  {
   "cell_type": "code",
   "execution_count": 295,
   "metadata": {},
   "outputs": [],
   "source": [
    "# stores the symtoms and the number of diseases that is possible if that symptom is present\n",
    "symptom_diseases_count = [\n",
    "    (symptom, len(symptoms_dict[symptom])) for symptom in symptoms_dict\n",
    "]\n",
    "symptom_diseases_count.sort(key=lambda x: x[1], reverse=True)"
   ]
  },
  {
   "cell_type": "code",
   "execution_count": 296,
   "metadata": {},
   "outputs": [],
   "source": [
    "\"\"\"adj[i] corresponds to the symptoms at ith position of ordered symptoms\"\"\"\n",
    "ordered_symptoms = [x[0] for x in symptom_diseases_count]\n",
    "adj: List[List[str]] = [list(symptoms_dict[symptom]) for symptom in ordered_symptoms]"
   ]
  },
  {
   "cell_type": "code",
   "execution_count": 297,
   "metadata": {},
   "outputs": [],
   "source": [
    "# this does not store the actually bit shifted number, rather the amount 1 needs to be shifted\n",
    "symptoms_mapping: Dict[str, int] = {\n",
    "    symptom: idx for idx, symptom in enumerate(reversed(ordered_symptoms))\n",
    "}\n",
    "\n",
    "diseases_mapping: Dict[str, int] = {\n",
    "    disease: create_mapping(disease, symptoms_mapping, disease_dict)\n",
    "    for disease in disease_dict\n",
    "}"
   ]
  },
  {
   "cell_type": "code",
   "execution_count": 298,
   "metadata": {},
   "outputs": [],
   "source": [
    "initial_questions = generate_initial_questions(adj, diseases, ordered_symptoms)\n",
    "initial_mask = 0\n",
    "for question in initial_questions:\n",
    "    initial_mask |= 1 << symptoms_mapping[question]\n",
    "\n",
    "already_asked_mask = initial_mask\n",
    "selected_symptoms_mask = 0\n",
    "\n",
    "\n",
    "selected_symptoms = [\"high_fever\"]\n",
    "symptoms_mask = generate_symptoms_map_from_list(selected_symptoms, symptoms_mapping)\n",
    "next_set_mask, next_set_questions = generate_next_set_questions(\n",
    "    selected_symptoms, already_asked_mask, symptoms_mapping, diseases_mapping\n",
    ")\n",
    "already_asked_mask |= next_set_mask\n",
    "selected_symptoms_mask |= symptoms_mask"
   ]
  },
  {
   "cell_type": "code",
   "execution_count": 303,
   "metadata": {},
   "outputs": [
    {
     "data": {
      "text/plain": [
       "(2147483648,\n",
       " ['AIDS',\n",
       "  'Bronchial Asthma',\n",
       "  'Jaundice',\n",
       "  'Malaria',\n",
       "  'Chicken pox',\n",
       "  'Dengue',\n",
       "  'Typhoid',\n",
       "  'Tuberculosis',\n",
       "  'Common Cold',\n",
       "  'Pneumonia',\n",
       "  'Impetigo'])"
      ]
     },
     "execution_count": 303,
     "metadata": {},
     "output_type": "execute_result"
    }
   ],
   "source": [
    "generate_matching_diseases_from_symptoms_list(\n",
    "    selected_symptoms, symptoms_mapping, diseases_mapping\n",
    ")"
   ]
  },
  {
   "cell_type": "code",
   "execution_count": 302,
   "metadata": {},
   "outputs": [
    {
     "data": {
      "text/plain": [
       "['high_fever',\n",
       " 'vomiting',\n",
       " 'fatigue',\n",
       " 'headache',\n",
       " 'chills',\n",
       " 'cough',\n",
       " 'skin_rash',\n",
       " 'constipation',\n",
       " 'swelling_joints']"
      ]
     },
     "execution_count": 302,
     "metadata": {},
     "output_type": "execute_result"
    }
   ],
   "source": [
    "initial_questions"
   ]
  },
  {
   "cell_type": "code",
   "execution_count": 300,
   "metadata": {},
   "outputs": [
    {
     "name": "stdout",
     "output_type": "stream",
     "text": [
      "['red_spots_over_body', 'lethargy', 'yellowing_of_eyes', 'yellowish_skin', 'phlegm', 'joint_pain', 'muscle_pain', 'sweating', 'breathlessness', 'diarrhoea', 'weight_loss', 'abdominal_pain', 'itching', 'loss_of_appetite', 'malaise', 'nausea', 'chest_pain']\n"
     ]
    }
   ],
   "source": [
    "print(next_set_questions)"
   ]
  },
  {
   "cell_type": "code",
   "execution_count": 299,
   "metadata": {},
   "outputs": [
    {
     "data": {
      "text/plain": [
       "['AIDS',\n",
       " 'Bronchial Asthma',\n",
       " 'Jaundice',\n",
       " 'Malaria',\n",
       " 'Chicken pox',\n",
       " 'Dengue',\n",
       " 'Typhoid',\n",
       " 'Tuberculosis',\n",
       " 'Common Cold',\n",
       " 'Pneumonia',\n",
       " 'Impetigo']"
      ]
     },
     "execution_count": 299,
     "metadata": {},
     "output_type": "execute_result"
    }
   ],
   "source": [
    "generate_matching_diseases_from_symptoms_mask(selected_symptoms_mask, diseases_mapping)"
   ]
  }
 ],
 "metadata": {
  "kernelspec": {
   "display_name": "venv",
   "language": "python",
   "name": "python3"
  },
  "language_info": {
   "codemirror_mode": {
    "name": "ipython",
    "version": 3
   },
   "file_extension": ".py",
   "mimetype": "text/x-python",
   "name": "python",
   "nbconvert_exporter": "python",
   "pygments_lexer": "ipython3",
   "version": "3.10.12"
  }
 },
 "nbformat": 4,
 "nbformat_minor": 2
}
